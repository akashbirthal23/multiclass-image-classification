{
 "cells": [
  {
   "cell_type": "code",
   "execution_count": 1,
   "metadata": {},
   "outputs": [],
   "source": [
    "import os\n",
    "import cv2\n",
    "import numpy as np\n",
    "from PIL import Image\n",
    "from sklearn.model_selection import train_test_split\n",
    "from sklearn.svm import SVC\n",
    "from sklearn.metrics import classification_report\n",
    "from sklearn.metrics import accuracy_score\n",
    "from sklearn.neighbors import KNeighborsClassifier\n",
    "import time\n",
    "start_time = time.time()"
   ]
  },
  {
   "cell_type": "code",
   "execution_count": 2,
   "metadata": {},
   "outputs": [],
   "source": [
    "def find_background_color(image):\n",
    "    # Define the four corner regions\n",
    "    corner_regions = [\n",
    "        image[:1, :1],\n",
    "        image[:1, -1:],\n",
    "        image[-1:, :1],\n",
    "        image[-1:, -1:]\n",
    "    ]\n",
    "\n",
    "    # Calculate the mean color for each corner region\n",
    "    mean_colors = []\n",
    "    for region in corner_regions:\n",
    "        mean_color = np.mean(region, axis=(0, 1))\n",
    "        mean_colors.append(mean_color)\n",
    "\n",
    "    # Find the maximum occurring color among the corner colors\n",
    "    corner_color_counts = {}\n",
    "    for color in mean_colors:\n",
    "        color_key = tuple(color)\n",
    "        if color_key in corner_color_counts:\n",
    "            corner_color_counts[color_key] += 1\n",
    "        else:\n",
    "            corner_color_counts[color_key] = 1\n",
    "\n",
    "    max_occuring_color = max(corner_color_counts, key=corner_color_counts.get)\n",
    "\n",
    "    # Convert the mean color to the HSV color space\n",
    "    max_occuring_color_hsv = cv2.cvtColor(np.uint8([[max_occuring_color]]), cv2.COLOR_BGR2HSV)[0][0]\n",
    "\n",
    "    return max_occuring_color_hsv"
   ]
  },
  {
   "cell_type": "code",
   "execution_count": 3,
   "metadata": {},
   "outputs": [],
   "source": [
    "def process_image(image, background_color):\n",
    "    # Define the exact range for the background color (tolerance = 0)\n",
    "    lower_range = np.array([background_color[0], background_color[1], background_color[2]], dtype=np.uint8)\n",
    "    upper_range = np.array([background_color[0], background_color[1], background_color[2]], dtype=np.uint8)\n",
    "\n",
    "    # Convert the image to the HSV color space\n",
    "    hsv_image = cv2.cvtColor(image, cv2.COLOR_BGR2HSV)\n",
    "\n",
    "    # Create a binary mask by thresholding the image based on the defined range\n",
    "    mask = cv2.inRange(hsv_image, lower_range, upper_range)\n",
    "\n",
    "    # Dilate the mask to expand the foreground regions and remove the background\n",
    "    kernel = cv2.getStructuringElement(cv2.MORPH_RECT, (3, 3))\n",
    "    dilated = cv2.dilate(mask, kernel, iterations=2)\n",
    "\n",
    "    # Apply Canny edge detection to detect edges\n",
    "    edges = cv2.Canny(dilated, 100, 200)\n",
    "\n",
    "    # Apply morphological dilation to make the edges thicker\n",
    "    kernel = cv2.getStructuringElement(cv2.MORPH_RECT, (2, 2))\n",
    "    thick_edges = cv2.dilate(edges, kernel, iterations=3)\n",
    "\n",
    "    # Invert the colors of the image\n",
    "    inverted_edges = cv2.bitwise_not(thick_edges)\n",
    "\n",
    "    # Define the coordinates for the segment extraction\n",
    "    start_x = 350\n",
    "    end_x = 450\n",
    "    start_y = 0\n",
    "    end_y = 100\n",
    "\n",
    "    # Extract the segment from the image\n",
    "    segment = inverted_edges[start_y:end_y, start_x:end_x]\n",
    "\n",
    "    return segment"
   ]
  },
  {
   "cell_type": "code",
   "execution_count": 4,
   "metadata": {},
   "outputs": [],
   "source": [
    "def image_processing(i):\n",
    "    # Load the captcha image\n",
    "    image = cv2.imread(f\"train/{i}.png\")\n",
    "\n",
    "    # Find background color\n",
    "    background_color = find_background_color(image)\n",
    "\n",
    "    # Process the image\n",
    "    segment = process_image(image, background_color)\n",
    "\n",
    "    # Create the output folder if it doesn't exist\n",
    "    output_folder = \"output\"\n",
    "    if not os.path.exists(output_folder):\n",
    "        os.makedirs(output_folder)\n",
    "\n",
    "    # Save the resulting image with white background\n",
    "    cv2.imwrite(f\"{output_folder}/final_{i}.png\", segment)\n",
    "\n",
    "# Process the images and save the output\n",
    "for i in range(2000):\n",
    "    image_processing(i)"
   ]
  },
  {
   "cell_type": "code",
   "execution_count": 5,
   "metadata": {},
   "outputs": [],
   "source": [
    "file = open( \"train/labels.txt\", \"r\" )\n",
    "label_train = file.read().splitlines()\n",
    "file.close()\n",
    "label_train = np.array(label_train)\n",
    "data_dir = 'output/'"
   ]
  },
  {
   "cell_type": "code",
   "execution_count": 6,
   "metadata": {},
   "outputs": [
    {
     "name": "stdout",
     "output_type": "stream",
     "text": [
      "Accuracy: 1.0\n",
      "Accuracy: 1.0\n"
     ]
    }
   ],
   "source": [
    "image_size = (100, 100)\n",
    "# Load the images and convert them to grayscale\n",
    "images = []\n",
    "for i in range(2000):\n",
    "    image_path = f'{data_dir}final_{i}.png'\n",
    "    image = Image.open(image_path).convert(\"L\")\n",
    "    image = np.array(image.resize(image_size)).flatten()  # Resize to specified size and flatten\n",
    "    images.append(image)\n",
    "# Load the labels from the file\n",
    "with open(\"train/labels.txt\", \"r\") as file:\n",
    "    labels = file.read().splitlines()\n",
    "\n",
    "# Verify the number of labels matches the number of images\n",
    "if len(labels) != len(images):\n",
    "    raise ValueError(\"Number of labels does not match number of images\")\n",
    "# Step 2: Split the dataset into training and testing sets\n",
    "# Step 2: Split the dataset into training and testing sets\n",
    "X_train, X_test, y_train, y_test = train_test_split(images, labels, test_size=0.2, random_state=42)\n",
    "\n",
    "\n",
    "img2 = images[0:1900]\n",
    "label2_train = label_train[0:1900]\n",
    "img2_test = images[1900:2000]\n",
    "labels_test = label_train[1900:2000]\n",
    "\n",
    "\n",
    "clf = SVC(kernel=\"linear\")\n",
    "clf.fit(img2, label2_train)\n",
    "\n",
    "# Step 4: Predict the labels for the test set\n",
    "y_pred = clf.predict(img2_test)\n",
    "\n",
    "# Step 5: Evaluate the accuracy of the classifier\n",
    "accuracy = accuracy_score(labels_test, y_pred)\n",
    "print(\"Accuracy:\", accuracy)\n",
    "\n",
    "\n",
    " # Step 4: Make predictions on the testing set\n",
    "y_pred = clf.predict(X_test)\n",
    "\n",
    "# # Step 5: Evaluate the model\n",
    "accuracy = accuracy_score(y_test,y_pred)\n",
    "print(\"Accuracy:\", accuracy)"
   ]
  },
  {
   "cell_type": "code",
   "execution_count": 7,
   "metadata": {},
   "outputs": [
    {
     "name": "stdout",
     "output_type": "stream",
     "text": [
      "Accuracy: 1.0\n"
     ]
    }
   ],
   "source": [
    "k = 5  # Number of neighbors\n",
    "knn = KNeighborsClassifier(n_neighbors=k)\n",
    "knn.fit(img2,label2_train)\n",
    "\n",
    "# Step 4: Predict the labels for the test set\n",
    "y_pred = knn.predict(img2_test)\n",
    "\n",
    "# Step 5: Evaluate the accuracy of the classifier\n",
    "accuracy = accuracy_score(labels_test, y_pred)\n",
    "print(\"Accuracy:\", accuracy)"
   ]
  },
  {
   "cell_type": "code",
   "execution_count": 8,
   "metadata": {},
   "outputs": [
    {
     "name": "stdout",
     "output_type": "stream",
     "text": [
      "Accuracy: 0.99\n"
     ]
    }
   ],
   "source": [
    "from sklearn.tree import DecisionTreeClassifier\n",
    "dt = DecisionTreeClassifier()\n",
    "\n",
    "# Train the decision tree classifier\n",
    "dt.fit(img2, label2_train)\n",
    "\n",
    "# Make predictions on the test set\n",
    "y_pred = dt.predict(img2_test)\n",
    "\n",
    "# Calculate the accuracy of the model\n",
    "accuracy = accuracy_score(labels_test, y_pred)\n",
    "print(\"Accuracy:\", accuracy)"
   ]
  },
  {
   "cell_type": "code",
   "execution_count": 9,
   "metadata": {},
   "outputs": [
    {
     "name": "stdout",
     "output_type": "stream",
     "text": [
      "Accuracy: 1.0\n"
     ]
    }
   ],
   "source": [
    "from sklearn.linear_model import LogisticRegression\n",
    "\n",
    "lr = LogisticRegression()\n",
    "\n",
    "# Train the decision tree classifier\n",
    "lr.fit(img2, label2_train)\n",
    "\n",
    "# Make predictions on the test set\n",
    "y_pred = lr.predict(img2_test)\n",
    "\n",
    "# Calculate the accuracy of the model\n",
    "accuracy = accuracy_score(labels_test, y_pred)\n",
    "print(\"Accuracy:\", accuracy)"
   ]
  },
  {
   "cell_type": "code",
   "execution_count": 10,
   "metadata": {},
   "outputs": [],
   "source": [
    "import pickle\n",
    "\n",
    "# Assuming you have a trained model called \"model\"\n",
    "model = lr  # Your trained model object\n",
    "\n",
    "# Define the file path to store the model\n",
    "model_file = 'model_lr.pkl'\n",
    "\n",
    "# Save the model to a file\n",
    "with open(model_file, 'wb') as file:\n",
    "    pickle.dump(model, file)"
   ]
  },
  {
   "cell_type": "code",
   "execution_count": 11,
   "metadata": {},
   "outputs": [
    {
     "name": "stdout",
     "output_type": "stream",
     "text": [
      "SVM Accuracy: 1.0\n",
      "KNN Accuracy: 1.0\n",
      "Decision Tree Accuracy: 0.99\n",
      "Logistic Regression Accuracy: 1.0\n"
     ]
    }
   ],
   "source": [
    "# Load the labels from the file\n",
    "with open(\"train/labels.txt\", \"r\") as file:\n",
    "    labels = file.read().splitlines()\n",
    "\n",
    "# Verify the number of labels matches the number of images\n",
    "if len(labels) != 2000:\n",
    "    raise ValueError(\"Number of labels does not match number of images\")\n",
    "\n",
    "data_dir = 'output/'\n",
    "image_size = (100, 100)\n",
    "\n",
    "# Load the images and convert them to grayscale\n",
    "images = []\n",
    "for i in range(2000):\n",
    "    image_path = f'{data_dir}final_{i}.png'\n",
    "    image = Image.open(image_path).convert(\"L\")\n",
    "    image = np.array(image.resize(image_size)).flatten()  # Resize to specified size and flatten\n",
    "    images.append(image)\n",
    "\n",
    "# Split the dataset into training and testing sets\n",
    "X_train, X_test, y_train, y_test = train_test_split(images, labels, test_size=0.2, random_state=42)\n",
    "\n",
    "# Support Vector Machine Classifier\n",
    "clf = SVC(kernel=\"linear\")\n",
    "clf.fit(X_train, y_train)\n",
    "y_pred = clf.predict(X_test)\n",
    "accuracy = accuracy_score(y_test, y_pred)\n",
    "print(\"SVM Accuracy:\", accuracy)\n",
    "\n",
    "# K-Nearest Neighbors Classifier\n",
    "knn = KNeighborsClassifier(n_neighbors=5)\n",
    "knn.fit(X_train, y_train)\n",
    "y_pred = knn.predict(X_test)\n",
    "accuracy = accuracy_score(y_test, y_pred)\n",
    "print(\"KNN Accuracy:\", accuracy)\n",
    "\n",
    "# Decision Tree Classifier\n",
    "dt = DecisionTreeClassifier()\n",
    "dt.fit(X_train, y_train)\n",
    "y_pred = dt.predict(X_test)\n",
    "accuracy = accuracy_score(y_test, y_pred)\n",
    "print(\"Decision Tree Accuracy:\", accuracy)\n",
    "\n",
    "# Logistic Regression Classifier\n",
    "lr = LogisticRegression()\n",
    "lr.fit(X_train, y_train)\n",
    "y_pred = lr.predict(X_test)\n",
    "accuracy = accuracy_score(y_test, y_pred)\n",
    "print(\"Logistic Regression Accuracy:\", accuracy)\n",
    "\n",
    "# Save Logistic Regression model to a file\n",
    "model_file = 'model_lr.pkl'\n",
    "with open(model_file, 'wb') as file:\n",
    "    pickle.dump(lr, file)\n"
   ]
  },
  {
   "cell_type": "code",
   "execution_count": 12,
   "metadata": {},
   "outputs": [
    {
     "name": "stdout",
     "output_type": "stream",
     "text": [
      "Execution time: 45.0737247467041 seconds\n"
     ]
    }
   ],
   "source": [
    "end_time = time.time()\n",
    "execution_time = end_time - start_time\n",
    "print(\"Execution time:\", execution_time, \"seconds\")"
   ]
  }
 ],
 "metadata": {
  "kernelspec": {
   "display_name": "venv",
   "language": "python",
   "name": "python3"
  },
  "language_info": {
   "codemirror_mode": {
    "name": "ipython",
    "version": 3
   },
   "file_extension": ".py",
   "mimetype": "text/x-python",
   "name": "python",
   "nbconvert_exporter": "python",
   "pygments_lexer": "ipython3",
   "version": "3.11.8"
  }
 },
 "nbformat": 4,
 "nbformat_minor": 2
}
